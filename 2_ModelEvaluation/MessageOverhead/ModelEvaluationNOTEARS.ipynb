{
 "cells": [
  {
   "cell_type": "code",
   "execution_count": 8,
   "id": "4605558c-0514-4909-9a03-57621f0c42e9",
   "metadata": {},
   "outputs": [],
   "source": [
    "import networkx as nx\n",
    "import pandas as pd\n",
    "from dowhy import gcm\n",
    "from dowhy import CausalModel\n",
    "import numpy as np\n",
    "import matplotlib.pyplot as plt\n",
    "\n",
    "from dowhy.utils import plot, bar_plot\n",
    "\n",
    "from dowhy.gcm.falsify import FalsifyConst, falsify_graph, plot_local_insights, run_validations, apply_suggestions\n",
    "from dowhy.gcm.independence_test.generalised_cov_measure import generalised_cov_based\n",
    "from dowhy.gcm.util import plot\n",
    "from dowhy.gcm.util.general import set_random_seed\n",
    "from dowhy.gcm.ml import SklearnRegressionModel"
   ]
  },
  {
   "cell_type": "code",
   "execution_count": 9,
   "id": "61e891b4-2bf2-47fe-8a20-6bae29b4b7f7",
   "metadata": {},
   "outputs": [
    {
     "data": {
      "text/html": [
       "<div>\n",
       "<style scoped>\n",
       "    .dataframe tbody tr th:only-of-type {\n",
       "        vertical-align: middle;\n",
       "    }\n",
       "\n",
       "    .dataframe tbody tr th {\n",
       "        vertical-align: top;\n",
       "    }\n",
       "\n",
       "    .dataframe thead th {\n",
       "        text-align: right;\n",
       "    }\n",
       "</style>\n",
       "<table border=\"1\" class=\"dataframe\">\n",
       "  <thead>\n",
       "    <tr style=\"text-align: right;\">\n",
       "      <th></th>\n",
       "      <th>d</th>\n",
       "      <th>messageReceived</th>\n",
       "      <th>graft</th>\n",
       "      <th>prune</th>\n",
       "      <th>dlo</th>\n",
       "      <th>dhi</th>\n",
       "      <th>dout</th>\n",
       "      <th>messageOverhead</th>\n",
       "      <th>topics</th>\n",
       "      <th>topicSize</th>\n",
       "    </tr>\n",
       "  </thead>\n",
       "  <tbody>\n",
       "    <tr>\n",
       "      <th>0</th>\n",
       "      <td>8</td>\n",
       "      <td>43.0</td>\n",
       "      <td>0.0</td>\n",
       "      <td>0.0</td>\n",
       "      <td>6</td>\n",
       "      <td>12</td>\n",
       "      <td>2</td>\n",
       "      <td>321.0</td>\n",
       "      <td>1</td>\n",
       "      <td>16</td>\n",
       "    </tr>\n",
       "    <tr>\n",
       "      <th>1</th>\n",
       "      <td>8</td>\n",
       "      <td>54.0</td>\n",
       "      <td>0.0</td>\n",
       "      <td>0.0</td>\n",
       "      <td>6</td>\n",
       "      <td>12</td>\n",
       "      <td>2</td>\n",
       "      <td>389.0</td>\n",
       "      <td>1</td>\n",
       "      <td>16</td>\n",
       "    </tr>\n",
       "    <tr>\n",
       "      <th>2</th>\n",
       "      <td>8</td>\n",
       "      <td>96.0</td>\n",
       "      <td>0.0</td>\n",
       "      <td>0.0</td>\n",
       "      <td>6</td>\n",
       "      <td>12</td>\n",
       "      <td>2</td>\n",
       "      <td>702.0</td>\n",
       "      <td>1</td>\n",
       "      <td>16</td>\n",
       "    </tr>\n",
       "    <tr>\n",
       "      <th>3</th>\n",
       "      <td>8</td>\n",
       "      <td>88.0</td>\n",
       "      <td>0.0</td>\n",
       "      <td>0.0</td>\n",
       "      <td>6</td>\n",
       "      <td>12</td>\n",
       "      <td>2</td>\n",
       "      <td>629.0</td>\n",
       "      <td>1</td>\n",
       "      <td>16</td>\n",
       "    </tr>\n",
       "    <tr>\n",
       "      <th>4</th>\n",
       "      <td>8</td>\n",
       "      <td>61.0</td>\n",
       "      <td>0.0</td>\n",
       "      <td>0.0</td>\n",
       "      <td>6</td>\n",
       "      <td>12</td>\n",
       "      <td>2</td>\n",
       "      <td>454.0</td>\n",
       "      <td>1</td>\n",
       "      <td>16</td>\n",
       "    </tr>\n",
       "    <tr>\n",
       "      <th>...</th>\n",
       "      <td>...</td>\n",
       "      <td>...</td>\n",
       "      <td>...</td>\n",
       "      <td>...</td>\n",
       "      <td>...</td>\n",
       "      <td>...</td>\n",
       "      <td>...</td>\n",
       "      <td>...</td>\n",
       "      <td>...</td>\n",
       "      <td>...</td>\n",
       "    </tr>\n",
       "    <tr>\n",
       "      <th>495</th>\n",
       "      <td>16</td>\n",
       "      <td>18.0</td>\n",
       "      <td>0.0</td>\n",
       "      <td>0.0</td>\n",
       "      <td>8</td>\n",
       "      <td>20</td>\n",
       "      <td>4</td>\n",
       "      <td>62.0</td>\n",
       "      <td>1</td>\n",
       "      <td>16</td>\n",
       "    </tr>\n",
       "    <tr>\n",
       "      <th>496</th>\n",
       "      <td>16</td>\n",
       "      <td>56.0</td>\n",
       "      <td>0.0</td>\n",
       "      <td>0.0</td>\n",
       "      <td>8</td>\n",
       "      <td>20</td>\n",
       "      <td>4</td>\n",
       "      <td>250.0</td>\n",
       "      <td>1</td>\n",
       "      <td>16</td>\n",
       "    </tr>\n",
       "    <tr>\n",
       "      <th>497</th>\n",
       "      <td>16</td>\n",
       "      <td>50.0</td>\n",
       "      <td>0.0</td>\n",
       "      <td>0.0</td>\n",
       "      <td>8</td>\n",
       "      <td>20</td>\n",
       "      <td>4</td>\n",
       "      <td>175.0</td>\n",
       "      <td>1</td>\n",
       "      <td>16</td>\n",
       "    </tr>\n",
       "    <tr>\n",
       "      <th>498</th>\n",
       "      <td>16</td>\n",
       "      <td>58.0</td>\n",
       "      <td>0.0</td>\n",
       "      <td>0.0</td>\n",
       "      <td>8</td>\n",
       "      <td>20</td>\n",
       "      <td>4</td>\n",
       "      <td>239.0</td>\n",
       "      <td>1</td>\n",
       "      <td>16</td>\n",
       "    </tr>\n",
       "    <tr>\n",
       "      <th>499</th>\n",
       "      <td>16</td>\n",
       "      <td>56.0</td>\n",
       "      <td>0.0</td>\n",
       "      <td>0.0</td>\n",
       "      <td>8</td>\n",
       "      <td>20</td>\n",
       "      <td>4</td>\n",
       "      <td>258.0</td>\n",
       "      <td>1</td>\n",
       "      <td>16</td>\n",
       "    </tr>\n",
       "  </tbody>\n",
       "</table>\n",
       "<p>500 rows × 10 columns</p>\n",
       "</div>"
      ],
      "text/plain": [
       "      d  messageReceived  graft  prune  dlo  dhi  dout  messageOverhead  \\\n",
       "0     8             43.0    0.0    0.0    6   12     2            321.0   \n",
       "1     8             54.0    0.0    0.0    6   12     2            389.0   \n",
       "2     8             96.0    0.0    0.0    6   12     2            702.0   \n",
       "3     8             88.0    0.0    0.0    6   12     2            629.0   \n",
       "4     8             61.0    0.0    0.0    6   12     2            454.0   \n",
       "..   ..              ...    ...    ...  ...  ...   ...              ...   \n",
       "495  16             18.0    0.0    0.0    8   20     4             62.0   \n",
       "496  16             56.0    0.0    0.0    8   20     4            250.0   \n",
       "497  16             50.0    0.0    0.0    8   20     4            175.0   \n",
       "498  16             58.0    0.0    0.0    8   20     4            239.0   \n",
       "499  16             56.0    0.0    0.0    8   20     4            258.0   \n",
       "\n",
       "     topics  topicSize  \n",
       "0         1         16  \n",
       "1         1         16  \n",
       "2         1         16  \n",
       "3         1         16  \n",
       "4         1         16  \n",
       "..      ...        ...  \n",
       "495       1         16  \n",
       "496       1         16  \n",
       "497       1         16  \n",
       "498       1         16  \n",
       "499       1         16  \n",
       "\n",
       "[500 rows x 10 columns]"
      ]
     },
     "execution_count": 9,
     "metadata": {},
     "output_type": "execute_result"
    }
   ],
   "source": [
    "#Treat dataset\n",
    "\n",
    "#Import data \n",
    "# data = pd.read_csv('../datasets/consolidated.csv',header=0, index_col=0)\n",
    "data = pd.read_csv('../../Datasets/Networkwise/consolidated_5s.csv',header=0, index_col=0)\n",
    "consolidated = pd.DataFrame(data)\n",
    "\n",
    "\n",
    "consolidated = consolidated.drop(columns=['experiment', 'topology'])#, 'messageBandwidth'])#, 'gossipBandwidth'])#, 'messageDuplicated'])#, 'n_nodes', 'consensus', 'messageDuplicated'])\n",
    "# consolidated = consolidated.loc[consolidated['totalBandwidth'] > 0]\n",
    "# consolidated.head(100)\n",
    "\n",
    "consolidateddiff = consolidated.dropna().dropna()\n",
    "\n",
    "X = consolidateddiff[['d', 'messageReceived', 'graft', 'prune', 'dlo', 'dhi', 'dout', 'messageOverhead', 'topics', 'topicSize']].to_numpy()\n",
    "consolidated = consolidateddiff[['d', 'messageReceived', 'graft', 'prune', 'dlo', 'dhi', 'dout', 'messageOverhead', 'topics', 'topicSize']]\n",
    "\n",
    "\n",
    "# X = consolidateddiff[['d', 'messageReceived', 'graft', 'prune', 'dlo', 'dhi', 'dout', 'interval', 'messageOverhead', 'topics', 'topicSize']].to_numpy()\n",
    "# consolidated = consolidateddiff[['d', 'messageReceived', 'graft', 'prune', 'dlo', 'dhi', 'dout', 'interval', 'messageOverhead', 'topics', 'topicSize']]\n",
    "\n",
    "#Rearrange columns according to nodes list\n",
    "# nodes = causal_graph.nodes\n",
    "\n",
    "# X = consolidated[['d', 'messageReceived', 'graft', 'prune', 'iwant', 'dlo', 'dhi', 'dscore', 'dlazy', 'ihave', 'dout', 'gossipFactor', 'interval', 'messageOverhead']].to_numpy()\n",
    "\n",
    "# X = consolidated.to_numpy()\n",
    "# print(X)\n",
    "consolidated.head(500)"
   ]
  },
  {
   "cell_type": "markdown",
   "id": "49b1f201-07b1-40ef-bcd0-a984ba74bd3f",
   "metadata": {},
   "source": [
    "# NOTEARS"
   ]
  },
  {
   "cell_type": "code",
   "execution_count": 10,
   "id": "24d22d66-16e7-4945-8530-b8c226398c67",
   "metadata": {},
   "outputs": [],
   "source": [
    "causal_graph = nx.read_adjlist(\"../../1_Discovery/MessageOverhead/AdjLists/notears.adjlist\", create_using=nx.DiGraph)\n",
    "\n",
    "gml_graph = \"\\n\".join(nx.generate_gml(causal_graph))"
   ]
  },
  {
   "cell_type": "code",
   "execution_count": null,
   "id": "b66dc953-430c-4873-99bd-bc70375d5483",
   "metadata": {},
   "outputs": [],
   "source": [
    "#Falsification\n",
    "\n",
    "result = falsify_graph(causal_graph, consolidated, show_progress_bar=True,  plot_histogram=True)\n",
    "print(result)"
   ]
  },
  {
   "cell_type": "code",
   "execution_count": null,
   "id": "a29f0965-1e3e-4241-b316-8c1ab03ac7b5",
   "metadata": {},
   "outputs": [],
   "source": [
    "print('Violations of LMCs')\n",
    "plot_local_insights(causal_graph, result, method=FalsifyConst.VALIDATE_LMC)"
   ]
  },
  {
   "cell_type": "code",
   "execution_count": null,
   "id": "725bc6c7-955a-4348-9e12-aa46476017bf",
   "metadata": {},
   "outputs": [],
   "source": [
    "#From digraph to adjancency matrix\n",
    "\n",
    "# true_causal_matrix = nx.adjacency_matrix(causal_graph)\n",
    "true_causal_matrix = nx.to_numpy_array(causal_graph)\n",
    "\n",
    "print(true_causal_matrix)\n",
    "print(causal_graph.nodes)"
   ]
  },
  {
   "cell_type": "code",
   "execution_count": null,
   "id": "82db1b62-562d-4c6d-a78d-431b67ea816f",
   "metadata": {},
   "outputs": [],
   "source": [
    "from scipy.stats import halfnorm\n",
    "\n",
    "causal_model = gcm.StructuralCausalModel(causal_graph)\n",
    "\n",
    "consolidated = consolidated.dropna()\n",
    "summary_auto_assignment = gcm.auto.assign_causal_mechanisms(causal_model, consolidated)\n",
    "print(summary_auto_assignment)"
   ]
  },
  {
   "cell_type": "code",
   "execution_count": null,
   "id": "2d82d864-b171-48c1-a2d4-0a895b626a7c",
   "metadata": {},
   "outputs": [],
   "source": [
    "gcm.fit(causal_model, consolidated)\n",
    "print(gcm.evaluate_causal_model(causal_model, consolidated))"
   ]
  },
  {
   "cell_type": "markdown",
   "id": "d8131c5e-3cee-4f69-a787-6fd02c7d80d6",
   "metadata": {
    "tags": []
   },
   "source": [
    "# SOB"
   ]
  },
  {
   "cell_type": "code",
   "execution_count": null,
   "id": "9fd110e6-1154-4bcb-a529-d5683a8e9ac9",
   "metadata": {
    "jupyter": {
     "source_hidden": true
    },
    "tags": []
   },
   "outputs": [],
   "source": [
    "causal_graph = nx.read_adjlist(\"../../1_Discovery/MessageOverhead/AdjLists/notearsSOB.adjlist\", create_using=nx.DiGraph)\n",
    "\n",
    "gml_graph = \"\\n\".join(nx.generate_gml(causal_graph))"
   ]
  },
  {
   "cell_type": "code",
   "execution_count": null,
   "id": "37b1c019-8388-4f44-b8b1-b8db82cacb26",
   "metadata": {
    "jupyter": {
     "source_hidden": true
    },
    "tags": []
   },
   "outputs": [],
   "source": [
    "#From digraph to adjancency matrix\n",
    "\n",
    "# true_causal_matrix = nx.adjacency_matrix(causal_graph)\n",
    "true_causal_matrix = nx.to_numpy_array(causal_graph)\n",
    "\n",
    "print(true_causal_matrix)\n",
    "print(causal_graph.nodes)"
   ]
  },
  {
   "cell_type": "code",
   "execution_count": null,
   "id": "c56adedb-46f3-4395-8f3b-d6f5ac3a249d",
   "metadata": {
    "jupyter": {
     "source_hidden": true
    },
    "tags": []
   },
   "outputs": [],
   "source": [
    "from scipy.stats import halfnorm\n",
    "\n",
    "causal_model = gcm.StructuralCausalModel(causal_graph)\n",
    "\n",
    "consolidated = consolidated.dropna()\n",
    "summary_auto_assignment = gcm.auto.assign_causal_mechanisms(causal_model, consolidated)\n",
    "print(summary_auto_assignment)"
   ]
  },
  {
   "cell_type": "code",
   "execution_count": null,
   "id": "786efa6e-5b55-4c91-bd3b-e2797d53f849",
   "metadata": {
    "jupyter": {
     "source_hidden": true
    },
    "tags": []
   },
   "outputs": [],
   "source": [
    "gcm.fit(causal_model, consolidated)\n",
    "print(gcm.evaluate_causal_model(causal_model, consolidated))"
   ]
  },
  {
   "cell_type": "markdown",
   "id": "0ec2caff-e59f-49b0-94be-d48740a801a0",
   "metadata": {
    "jupyter": {
     "source_hidden": true
    },
    "tags": []
   },
   "source": [
    "# MLP"
   ]
  },
  {
   "cell_type": "code",
   "execution_count": null,
   "id": "3dc662d5-ef51-4321-81d0-58f0a3d1a346",
   "metadata": {
    "jupyter": {
     "source_hidden": true
    },
    "tags": []
   },
   "outputs": [],
   "source": [
    "causal_graph = nx.read_adjlist(\"../../1_Discovery/MessageOverhead/AdjLists/notearsMLP.adjlist\", create_using=nx.DiGraph)\n",
    "\n",
    "gml_graph = \"\\n\".join(nx.generate_gml(causal_graph))"
   ]
  },
  {
   "cell_type": "code",
   "execution_count": null,
   "id": "3d0d6e33-6356-42c5-823f-f7ce252f1359",
   "metadata": {
    "jupyter": {
     "source_hidden": true
    },
    "tags": []
   },
   "outputs": [],
   "source": [
    "#From digraph to adjancency matrix\n",
    "\n",
    "# true_causal_matrix = nx.adjacency_matrix(causal_graph)\n",
    "true_causal_matrix = nx.to_numpy_array(causal_graph)\n",
    "\n",
    "print(true_causal_matrix)\n",
    "print(causal_graph.nodes)"
   ]
  },
  {
   "cell_type": "code",
   "execution_count": null,
   "id": "d973a82d-d244-4809-8064-cefcf533cb59",
   "metadata": {
    "jupyter": {
     "source_hidden": true
    },
    "tags": []
   },
   "outputs": [],
   "source": [
    "from scipy.stats import halfnorm\n",
    "\n",
    "causal_model = gcm.StructuralCausalModel(causal_graph)\n",
    "\n",
    "consolidated = consolidated.dropna()\n",
    "summary_auto_assignment = gcm.auto.assign_causal_mechanisms(causal_model, consolidated)\n",
    "print(summary_auto_assignment)"
   ]
  },
  {
   "cell_type": "code",
   "execution_count": null,
   "id": "206f2926-33b6-4523-916f-ce7eab13a46a",
   "metadata": {
    "jupyter": {
     "source_hidden": true
    },
    "tags": []
   },
   "outputs": [],
   "source": [
    "gcm.fit(causal_model, consolidated)\n",
    "print(gcm.evaluate_causal_model(causal_model, consolidated))"
   ]
  },
  {
   "cell_type": "markdown",
   "id": "4f212ddc-e47b-4a36-9457-7b9feae0e38c",
   "metadata": {},
   "source": [
    "# Low Rank"
   ]
  },
  {
   "cell_type": "code",
   "execution_count": null,
   "id": "cc577686-0617-429e-8bfd-3ef4c8c23a45",
   "metadata": {},
   "outputs": [],
   "source": [
    "causal_graph = nx.read_adjlist(\"../../1_Discovery/MessageOverhead/AdjLists/notearsLowRank.adjlist\", create_using=nx.DiGraph)\n",
    "\n",
    "gml_graph = \"\\n\".join(nx.generate_gml(causal_graph))"
   ]
  },
  {
   "cell_type": "code",
   "execution_count": null,
   "id": "1a0b3f45-e703-4643-a310-8bc428368256",
   "metadata": {},
   "outputs": [],
   "source": [
    "#Falsification\n",
    "\n",
    "result = falsify_graph(causal_graph, consolidated, show_progress_bar=True,  plot_histogram=True)\n",
    "print(result)"
   ]
  },
  {
   "cell_type": "code",
   "execution_count": null,
   "id": "4c85900b-a509-427f-925b-1049c45a6d96",
   "metadata": {},
   "outputs": [],
   "source": [
    "print('Violations of LMCs')\n",
    "plot_local_insights(causal_graph, result, method=FalsifyConst.VALIDATE_LMC)"
   ]
  },
  {
   "cell_type": "code",
   "execution_count": null,
   "id": "9648f2c7-4259-4286-bd2b-bb25b3bc7f86",
   "metadata": {},
   "outputs": [],
   "source": [
    "#From digraph to adjancency matrix\n",
    "\n",
    "# true_causal_matrix = nx.adjacency_matrix(causal_graph)\n",
    "true_causal_matrix = nx.to_numpy_array(causal_graph)\n",
    "\n",
    "print(true_causal_matrix)\n",
    "print(causal_graph.nodes)"
   ]
  },
  {
   "cell_type": "code",
   "execution_count": null,
   "id": "efd8c9b0-32e3-41b8-a88d-9b3a79041070",
   "metadata": {},
   "outputs": [],
   "source": [
    "from scipy.stats import halfnorm\n",
    "\n",
    "causal_model = gcm.StructuralCausalModel(causal_graph)\n",
    "\n",
    "consolidated = consolidated.dropna()\n",
    "summary_auto_assignment = gcm.auto.assign_causal_mechanisms(causal_model, consolidated)\n",
    "print(summary_auto_assignment)"
   ]
  },
  {
   "cell_type": "code",
   "execution_count": null,
   "id": "613e7c4f-9a4d-407a-a6b1-cde509532e2c",
   "metadata": {},
   "outputs": [],
   "source": [
    "gcm.fit(causal_model, consolidated)\n",
    "print(gcm.evaluate_causal_model(causal_model, consolidated))"
   ]
  },
  {
   "cell_type": "markdown",
   "id": "83ad8768-8fec-403d-9220-b26c7a28365a",
   "metadata": {},
   "source": [
    "# GOLEM"
   ]
  },
  {
   "cell_type": "code",
   "execution_count": null,
   "id": "eda007b4-c37b-495b-820a-656d24e6e771",
   "metadata": {},
   "outputs": [],
   "source": [
    "causal_graph = nx.read_adjlist(\"../../1_Discovery/MessageOverhead/AdjLists/notearsGolem.adjlist\", create_using=nx.DiGraph)\n",
    "\n",
    "gml_graph = \"\\n\".join(nx.generate_gml(causal_graph))"
   ]
  },
  {
   "cell_type": "code",
   "execution_count": null,
   "id": "e67be705-702f-4fd8-a06d-0c38b6fd2734",
   "metadata": {},
   "outputs": [],
   "source": [
    "#Falsification\n",
    "\n",
    "result = falsify_graph(causal_graph, consolidated, show_progress_bar=True,  plot_histogram=True)\n",
    "print(result)"
   ]
  },
  {
   "cell_type": "code",
   "execution_count": null,
   "id": "56b85c73-38c3-40bc-9a31-158af14cf8e1",
   "metadata": {},
   "outputs": [],
   "source": [
    "print('Violations of LMCs')\n",
    "plot_local_insights(causal_graph, result, method=FalsifyConst.VALIDATE_LMC)"
   ]
  },
  {
   "cell_type": "code",
   "execution_count": null,
   "id": "98f75d20-1c33-4256-b13b-099e669bb21b",
   "metadata": {},
   "outputs": [],
   "source": [
    "#From digraph to adjancency matrix\n",
    "\n",
    "# true_causal_matrix = nx.adjacency_matrix(causal_graph)\n",
    "true_causal_matrix = nx.to_numpy_array(causal_graph)\n",
    "\n",
    "print(true_causal_matrix)\n",
    "print(causal_graph.nodes)"
   ]
  },
  {
   "cell_type": "code",
   "execution_count": null,
   "id": "2c2b2a9d-4d78-4320-b4a9-ad999a991278",
   "metadata": {},
   "outputs": [],
   "source": [
    "from scipy.stats import halfnorm\n",
    "\n",
    "causal_model = gcm.StructuralCausalModel(causal_graph)\n",
    "\n",
    "consolidated = consolidated.dropna()\n",
    "summary_auto_assignment = gcm.auto.assign_causal_mechanisms(causal_model, consolidated)\n",
    "print(summary_auto_assignment)"
   ]
  },
  {
   "cell_type": "code",
   "execution_count": null,
   "id": "3cb769d9-1e55-4ddd-bdd2-74917b275154",
   "metadata": {},
   "outputs": [],
   "source": [
    "gcm.fit(causal_model, consolidated)\n",
    "print(gcm.evaluate_causal_model(causal_model, consolidated))"
   ]
  },
  {
   "cell_type": "code",
   "execution_count": null,
   "id": "81b2f7b4-438d-4785-aad6-29faa8355c30",
   "metadata": {},
   "outputs": [],
   "source": []
  },
  {
   "cell_type": "code",
   "execution_count": null,
   "id": "9c31822c-1cd8-4f11-8e67-fdf7c8a0935c",
   "metadata": {},
   "outputs": [],
   "source": []
  }
 ],
 "metadata": {
  "kernelspec": {
   "display_name": "Python 3 (ipykernel)",
   "language": "python",
   "name": "python3"
  },
  "language_info": {
   "codemirror_mode": {
    "name": "ipython",
    "version": 3
   },
   "file_extension": ".py",
   "mimetype": "text/x-python",
   "name": "python",
   "nbconvert_exporter": "python",
   "pygments_lexer": "ipython3",
   "version": "3.10.12"
  }
 },
 "nbformat": 4,
 "nbformat_minor": 5
}
