{
 "cells": [
  {
   "cell_type": "code",
   "execution_count": 1,
   "id": "6a2bd863-6e96-408d-aa5a-e335805e809b",
   "metadata": {},
   "outputs": [],
   "source": [
    "# https://www.pywhy.org/dowhy/v0.10.1/user_guide/causal_tasks/estimating_causal_effects/index.html\n",
    "\n",
    "# Estimating the causal effect requires four steps:\n",
    "\n",
    "# Model a causal inference problem using assumptions.\n",
    "\n",
    "#     Identify an expression for the causal effect under these assumptions (“causal estimand”).\n",
    "#     Estimate the expression using statistical methods such as matching or instrumental variables.\n",
    "#     Finally, verify the validity of the estimate using a variety of robustness checks.\n",
    "\n",
    "# This workflow is captured by four key verbs in DoWhy:\n",
    "\n",
    "#     model (CausalModel or graph)\n",
    "#     identify (identify_effect)\n",
    "#     estimate (estimate_effect)\n",
    "#     refute (refute_estimate)\n",
    "\n",
    "\n",
    "#https://www.pywhy.org/dowhy/v0.10.1/example_notebooks/dowhy_simple_example.html#"
   ]
  },
  {
   "cell_type": "code",
   "execution_count": 2,
   "id": "925aefae-bf17-4a55-8067-a0cb3108f4b9",
   "metadata": {},
   "outputs": [],
   "source": [
    "import networkx as nx\n",
    "import pandas as pd\n",
    "from dowhy import gcm\n",
    "from dowhy import CausalModel\n",
    "import numpy as np\n",
    "import matplotlib.pyplot as plt\n",
    "\n",
    "from dowhy.utils import plot, bar_plot"
   ]
  },
  {
   "cell_type": "code",
   "execution_count": null,
   "id": "d6416a4c-c793-4fd1-8b35-3a3c4a0a79e9",
   "metadata": {},
   "outputs": [],
   "source": [
    "#Treat dataset\n",
    "\n",
    "#Import data \n",
    "# data = pd.read_csv('../datasets/consolidated.csv',header=0, index_col=0)\n",
    "data = pd.read_csv('../../Datasets/Networkwise/consolidated_5s.csv',header=0, index_col=0)\n",
    "consolidated = pd.DataFrame(data)\n",
    "\n",
    "\n",
    "consolidated = consolidated.drop(columns=['experiment', 'topology'])#, 'messageBandwidth'])#, 'gossipBandwidth'])#, 'messageDuplicated'])#, 'n_nodes', 'consensus', 'messageDuplicated'])\n",
    "# consolidated = consolidated.loc[consolidated['totalBandwidth'] > 0]\n",
    "# consolidated.head(100)\n",
    "\n",
    "consolidateddiff = consolidated.dropna()#.diff().dropna()\n",
    "\n",
    "X = consolidateddiff[['d', 'messageReceived', 'graft', 'prune', 'dlo', 'dhi', 'dout', 'messageOverhead', 'topics', 'topicSize']].to_numpy()\n",
    "consolidated = consolidateddiff[['d', 'messageReceived', 'graft', 'prune', 'dlo', 'dhi', 'dout', 'messageOverhead', 'topics', 'topicSize']]\n",
    "\n",
    "#Rearrange columns according to nodes list\n",
    "# nodes = causal_graph.nodes\n",
    "\n",
    "# X = consolidated[['d', 'messageReceived', 'graft', 'prune', 'iwant', 'dlo', 'dhi', 'dscore', 'dlazy', 'ihave', 'dout', 'gossipFactor', 'interval', 'messageOverhead']].to_numpy()\n",
    "\n",
    "# X = consolidated.to_numpy()\n",
    "# print(X)\n",
    "consolidated.head(500)"
   ]
  },
  {
   "cell_type": "code",
   "execution_count": null,
   "id": "99ad4215-5517-484f-9ce3-d932c9b58d60",
   "metadata": {
    "tags": []
   },
   "outputs": [],
   "source": [
    "axes = pd.plotting.scatter_matrix(consolidated, figsize=(10, 10), c='#ff0d57', alpha=0.2, hist_kwds={'color':['#1E88E5']});\n",
    "for ax in axes.flatten():\n",
    "    ax.xaxis.label.set_rotation(90)\n",
    "    ax.yaxis.label.set_rotation(0)\n",
    "    ax.yaxis.label.set_ha('right')"
   ]
  },
  {
   "cell_type": "markdown",
   "id": "d0075386-de49-44a5-9d8a-d610c4e11c51",
   "metadata": {},
   "source": [
    "# Observational"
   ]
  },
  {
   "cell_type": "code",
   "execution_count": null,
   "id": "b986946c-38f2-4d9f-b745-fabfa5a068d5",
   "metadata": {
    "tags": []
   },
   "outputs": [],
   "source": [
    "#Causal graph\n",
    "causal_graph = nx.DiGraph([('d', 'messageReceived'),\n",
    "                           ('d', 'graft'),\n",
    "                           ('d', 'prune'),\n",
    "                           ('dlo', 'graft'),\n",
    "                           ('dhi', 'prune'),\n",
    "                           ('dout', 'prune'),\n",
    "                           # ('interval', 'graft'),\n",
    "                           # ('interval', 'prune'),\n",
    "                           ('prune', 'graft'),\n",
    "                           ('messageReceived', 'messageOverhead'),\n",
    "                           ('graft','messageReceived'),\n",
    "                           ('topics', 'messageReceived'),\n",
    "                           ('d', 'messageOverhead'),\n",
    "                           ('topicSize', 'messageReceived'),\n",
    "                           # ('topicSize','prune'),\n",
    "                           ('topics', 'messageOverhead'),\n",
    "                         ])\n",
    "\n",
    "\n",
    "G=gcm.util.plot(causal_graph, figure_size=[6, 8])"
   ]
  },
  {
   "cell_type": "code",
   "execution_count": null,
   "id": "ede0ad5a-ce35-47d2-b945-1d04f27ba609",
   "metadata": {
    "tags": []
   },
   "outputs": [],
   "source": [
    "from scipy.stats import halfnorm\n",
    "\n",
    "causal_model = gcm.StructuralCausalModel(causal_graph)\n",
    "\n",
    "summary_auto_assignment = gcm.auto.assign_causal_mechanisms(causal_model, consolidated)\n",
    "print(summary_auto_assignment)"
   ]
  },
  {
   "cell_type": "code",
   "execution_count": null,
   "id": "8cdfb281-880f-42fa-b1cb-5819119cfd89",
   "metadata": {
    "tags": []
   },
   "outputs": [],
   "source": [
    "gcm.fit(causal_model, consolidated)\n",
    "print(gcm.evaluate_causal_model(causal_model, consolidated))"
   ]
  },
  {
   "cell_type": "code",
   "execution_count": null,
   "id": "4eac9aa5-ba4e-4ce1-addf-adc225f13d6e",
   "metadata": {},
   "outputs": [],
   "source": []
  }
 ],
 "metadata": {
  "kernelspec": {
   "display_name": "Python 3 (ipykernel)",
   "language": "python",
   "name": "python3"
  },
  "language_info": {
   "codemirror_mode": {
    "name": "ipython",
    "version": 3
   },
   "file_extension": ".py",
   "mimetype": "text/x-python",
   "name": "python",
   "nbconvert_exporter": "python",
   "pygments_lexer": "ipython3",
   "version": "3.11.5"
  }
 },
 "nbformat": 4,
 "nbformat_minor": 5
}
