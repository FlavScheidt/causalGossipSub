{
 "cells": [
  {
   "cell_type": "code",
   "execution_count": 1,
   "id": "4605558c-0514-4909-9a03-57621f0c42e9",
   "metadata": {
    "tags": []
   },
   "outputs": [],
   "source": [
    "import networkx as nx\n",
    "import pandas as pd\n",
    "from dowhy import gcm\n",
    "from dowhy import CausalModel\n",
    "import numpy as np\n",
    "import matplotlib.pyplot as plt\n",
    "\n",
    "from dowhy.utils import plot, bar_plot\n",
    "\n",
    "from dowhy.gcm.falsify import FalsifyConst, falsify_graph, plot_local_insights, run_validations, apply_suggestions\n",
    "from dowhy.gcm.independence_test.generalised_cov_measure import generalised_cov_based\n",
    "from dowhy.gcm.util import plot\n",
    "from dowhy.gcm.util.general import set_random_seed\n",
    "from dowhy.gcm.ml import SklearnRegressionModel"
   ]
  },
  {
   "cell_type": "code",
   "execution_count": 2,
   "id": "61e891b4-2bf2-47fe-8a20-6bae29b4b7f7",
   "metadata": {
    "tags": []
   },
   "outputs": [
    {
     "data": {
      "text/html": [
       "<div>\n",
       "<style scoped>\n",
       "    .dataframe tbody tr th:only-of-type {\n",
       "        vertical-align: middle;\n",
       "    }\n",
       "\n",
       "    .dataframe tbody tr th {\n",
       "        vertical-align: top;\n",
       "    }\n",
       "\n",
       "    .dataframe thead th {\n",
       "        text-align: right;\n",
       "    }\n",
       "</style>\n",
       "<table border=\"1\" class=\"dataframe\">\n",
       "  <thead>\n",
       "    <tr style=\"text-align: right;\">\n",
       "      <th></th>\n",
       "      <th>d</th>\n",
       "      <th>messageReceived</th>\n",
       "      <th>graft</th>\n",
       "      <th>prune</th>\n",
       "      <th>dlo</th>\n",
       "      <th>dhi</th>\n",
       "      <th>dout</th>\n",
       "      <th>messageOverhead</th>\n",
       "      <th>topics</th>\n",
       "      <th>topicSize</th>\n",
       "    </tr>\n",
       "  </thead>\n",
       "  <tbody>\n",
       "    <tr>\n",
       "      <th>0</th>\n",
       "      <td>8</td>\n",
       "      <td>43.0</td>\n",
       "      <td>0.0</td>\n",
       "      <td>0.0</td>\n",
       "      <td>6</td>\n",
       "      <td>12</td>\n",
       "      <td>2</td>\n",
       "      <td>321.0</td>\n",
       "      <td>1</td>\n",
       "      <td>16</td>\n",
       "    </tr>\n",
       "    <tr>\n",
       "      <th>1</th>\n",
       "      <td>8</td>\n",
       "      <td>54.0</td>\n",
       "      <td>0.0</td>\n",
       "      <td>0.0</td>\n",
       "      <td>6</td>\n",
       "      <td>12</td>\n",
       "      <td>2</td>\n",
       "      <td>389.0</td>\n",
       "      <td>1</td>\n",
       "      <td>16</td>\n",
       "    </tr>\n",
       "    <tr>\n",
       "      <th>2</th>\n",
       "      <td>8</td>\n",
       "      <td>96.0</td>\n",
       "      <td>0.0</td>\n",
       "      <td>0.0</td>\n",
       "      <td>6</td>\n",
       "      <td>12</td>\n",
       "      <td>2</td>\n",
       "      <td>702.0</td>\n",
       "      <td>1</td>\n",
       "      <td>16</td>\n",
       "    </tr>\n",
       "    <tr>\n",
       "      <th>3</th>\n",
       "      <td>8</td>\n",
       "      <td>88.0</td>\n",
       "      <td>0.0</td>\n",
       "      <td>0.0</td>\n",
       "      <td>6</td>\n",
       "      <td>12</td>\n",
       "      <td>2</td>\n",
       "      <td>629.0</td>\n",
       "      <td>1</td>\n",
       "      <td>16</td>\n",
       "    </tr>\n",
       "    <tr>\n",
       "      <th>4</th>\n",
       "      <td>8</td>\n",
       "      <td>61.0</td>\n",
       "      <td>0.0</td>\n",
       "      <td>0.0</td>\n",
       "      <td>6</td>\n",
       "      <td>12</td>\n",
       "      <td>2</td>\n",
       "      <td>454.0</td>\n",
       "      <td>1</td>\n",
       "      <td>16</td>\n",
       "    </tr>\n",
       "    <tr>\n",
       "      <th>...</th>\n",
       "      <td>...</td>\n",
       "      <td>...</td>\n",
       "      <td>...</td>\n",
       "      <td>...</td>\n",
       "      <td>...</td>\n",
       "      <td>...</td>\n",
       "      <td>...</td>\n",
       "      <td>...</td>\n",
       "      <td>...</td>\n",
       "      <td>...</td>\n",
       "    </tr>\n",
       "    <tr>\n",
       "      <th>495</th>\n",
       "      <td>16</td>\n",
       "      <td>18.0</td>\n",
       "      <td>0.0</td>\n",
       "      <td>0.0</td>\n",
       "      <td>8</td>\n",
       "      <td>20</td>\n",
       "      <td>4</td>\n",
       "      <td>62.0</td>\n",
       "      <td>1</td>\n",
       "      <td>16</td>\n",
       "    </tr>\n",
       "    <tr>\n",
       "      <th>496</th>\n",
       "      <td>16</td>\n",
       "      <td>56.0</td>\n",
       "      <td>0.0</td>\n",
       "      <td>0.0</td>\n",
       "      <td>8</td>\n",
       "      <td>20</td>\n",
       "      <td>4</td>\n",
       "      <td>250.0</td>\n",
       "      <td>1</td>\n",
       "      <td>16</td>\n",
       "    </tr>\n",
       "    <tr>\n",
       "      <th>497</th>\n",
       "      <td>16</td>\n",
       "      <td>50.0</td>\n",
       "      <td>0.0</td>\n",
       "      <td>0.0</td>\n",
       "      <td>8</td>\n",
       "      <td>20</td>\n",
       "      <td>4</td>\n",
       "      <td>175.0</td>\n",
       "      <td>1</td>\n",
       "      <td>16</td>\n",
       "    </tr>\n",
       "    <tr>\n",
       "      <th>498</th>\n",
       "      <td>16</td>\n",
       "      <td>58.0</td>\n",
       "      <td>0.0</td>\n",
       "      <td>0.0</td>\n",
       "      <td>8</td>\n",
       "      <td>20</td>\n",
       "      <td>4</td>\n",
       "      <td>239.0</td>\n",
       "      <td>1</td>\n",
       "      <td>16</td>\n",
       "    </tr>\n",
       "    <tr>\n",
       "      <th>499</th>\n",
       "      <td>16</td>\n",
       "      <td>56.0</td>\n",
       "      <td>0.0</td>\n",
       "      <td>0.0</td>\n",
       "      <td>8</td>\n",
       "      <td>20</td>\n",
       "      <td>4</td>\n",
       "      <td>258.0</td>\n",
       "      <td>1</td>\n",
       "      <td>16</td>\n",
       "    </tr>\n",
       "  </tbody>\n",
       "</table>\n",
       "<p>500 rows × 10 columns</p>\n",
       "</div>"
      ],
      "text/plain": [
       "      d  messageReceived  graft  prune  dlo  dhi  dout  messageOverhead  \\\n",
       "0     8             43.0    0.0    0.0    6   12     2            321.0   \n",
       "1     8             54.0    0.0    0.0    6   12     2            389.0   \n",
       "2     8             96.0    0.0    0.0    6   12     2            702.0   \n",
       "3     8             88.0    0.0    0.0    6   12     2            629.0   \n",
       "4     8             61.0    0.0    0.0    6   12     2            454.0   \n",
       "..   ..              ...    ...    ...  ...  ...   ...              ...   \n",
       "495  16             18.0    0.0    0.0    8   20     4             62.0   \n",
       "496  16             56.0    0.0    0.0    8   20     4            250.0   \n",
       "497  16             50.0    0.0    0.0    8   20     4            175.0   \n",
       "498  16             58.0    0.0    0.0    8   20     4            239.0   \n",
       "499  16             56.0    0.0    0.0    8   20     4            258.0   \n",
       "\n",
       "     topics  topicSize  \n",
       "0         1         16  \n",
       "1         1         16  \n",
       "2         1         16  \n",
       "3         1         16  \n",
       "4         1         16  \n",
       "..      ...        ...  \n",
       "495       1         16  \n",
       "496       1         16  \n",
       "497       1         16  \n",
       "498       1         16  \n",
       "499       1         16  \n",
       "\n",
       "[500 rows x 10 columns]"
      ]
     },
     "execution_count": 2,
     "metadata": {},
     "output_type": "execute_result"
    }
   ],
   "source": [
    "#Treat dataset\n",
    "\n",
    "#Import data \n",
    "# data = pd.read_csv('../datasets/consolidated.csv',header=0, index_col=0)\n",
    "data = pd.read_csv('../../Datasets/Networkwise/consolidated_5s.csv',header=0, index_col=0)\n",
    "consolidated = pd.DataFrame(data)\n",
    "\n",
    "\n",
    "consolidated = consolidated.drop(columns=['experiment', 'topology'])#, 'messageBandwidth'])#, 'gossipBandwidth'])#, 'messageDuplicated'])#, 'n_nodes', 'consensus', 'messageDuplicated'])\n",
    "# consolidated = consolidated.loc[consolidated['totalBandwidth'] > 0]\n",
    "# consolidated.head(100)\n",
    "\n",
    "consolidateddiff = consolidated.dropna().dropna()\n",
    "\n",
    "X = consolidateddiff[['d', 'messageReceived', 'graft', 'prune', 'dlo', 'dhi', 'dout', 'messageOverhead', 'topics', 'topicSize']].to_numpy()\n",
    "consolidated = consolidateddiff[['d', 'messageReceived', 'graft', 'prune', 'dlo', 'dhi', 'dout', 'messageOverhead', 'topics', 'topicSize']]\n",
    "\n",
    "\n",
    "# X = consolidateddiff[['d', 'messageReceived', 'graft', 'prune', 'dlo', 'dhi', 'dout', 'interval', 'messageOverhead', 'topics', 'topicSize']].to_numpy()\n",
    "# consolidated = consolidateddiff[['d', 'messageReceived', 'graft', 'prune', 'dlo', 'dhi', 'dout', 'interval', 'messageOverhead', 'topics', 'topicSize']]\n",
    "\n",
    "#Rearrange columns according to nodes list\n",
    "# nodes = causal_graph.nodes\n",
    "\n",
    "# X = consolidated[['d', 'messageReceived', 'graft', 'prune', 'iwant', 'dlo', 'dhi', 'dscore', 'dlazy', 'ihave', 'dout', 'gossipFactor', 'interval', 'messageOverhead']].to_numpy()\n",
    "\n",
    "# X = consolidated.to_numpy()\n",
    "# print(X)\n",
    "consolidated.head(500)"
   ]
  },
  {
   "cell_type": "markdown",
   "id": "49b1f201-07b1-40ef-bcd0-a984ba74bd3f",
   "metadata": {},
   "source": [
    "# ICA LinGaM"
   ]
  },
  {
   "cell_type": "code",
   "execution_count": 3,
   "id": "24d22d66-16e7-4945-8530-b8c226398c67",
   "metadata": {
    "tags": []
   },
   "outputs": [],
   "source": [
    "causal_graph = nx.read_adjlist(\"../../1_Discovery/MessageOverhead/AdjLists/ICALiNGAM.adjlist\", create_using=nx.DiGraph)\n",
    "\n",
    "gml_graph = \"\\n\".join(nx.generate_gml(causal_graph))"
   ]
  },
  {
   "cell_type": "code",
   "execution_count": null,
   "id": "a392f17d-1ce6-47b3-abca-fcc4da8d2c44",
   "metadata": {
    "tags": []
   },
   "outputs": [],
   "source": [
    "#Falsification\n",
    "\n",
    "result = falsify_graph(causal_graph, consolidated, show_progress_bar=True,  plot_histogram=True)\n",
    "print(result)"
   ]
  },
  {
   "cell_type": "code",
   "execution_count": null,
   "id": "ed394318-aca3-487f-a272-d810e7a4590d",
   "metadata": {
    "tags": []
   },
   "outputs": [],
   "source": [
    "print('Violations of LMCs')\n",
    "plot_local_insights(causal_graph, result, method=FalsifyConst.VALIDATE_LMC)"
   ]
  },
  {
   "cell_type": "code",
   "execution_count": null,
   "id": "725bc6c7-955a-4348-9e12-aa46476017bf",
   "metadata": {},
   "outputs": [],
   "source": [
    "#From digraph to adjancency matrix\n",
    "\n",
    "# true_causal_matrix = nx.adjacency_matrix(causal_graph)\n",
    "true_causal_matrix = nx.to_numpy_array(causal_graph)\n",
    "\n",
    "print(true_causal_matrix)\n",
    "print(causal_graph.nodes)"
   ]
  },
  {
   "cell_type": "code",
   "execution_count": null,
   "id": "82db1b62-562d-4c6d-a78d-431b67ea816f",
   "metadata": {},
   "outputs": [],
   "source": [
    "from scipy.stats import halfnorm\n",
    "\n",
    "causal_model = gcm.StructuralCausalModel(causal_graph)\n",
    "\n",
    "consolidated = consolidated.dropna()\n",
    "summary_auto_assignment = gcm.auto.assign_causal_mechanisms(causal_model, consolidated)\n",
    "print(summary_auto_assignment)"
   ]
  },
  {
   "cell_type": "code",
   "execution_count": null,
   "id": "2d82d864-b171-48c1-a2d4-0a895b626a7c",
   "metadata": {},
   "outputs": [],
   "source": [
    "gcm.fit(causal_model, consolidated)\n",
    "print(gcm.evaluate_causal_model(causal_model, consolidated))"
   ]
  },
  {
   "cell_type": "markdown",
   "id": "d8131c5e-3cee-4f69-a787-6fd02c7d80d6",
   "metadata": {},
   "source": [
    "# DirectLinGaM"
   ]
  },
  {
   "cell_type": "code",
   "execution_count": null,
   "id": "9fd110e6-1154-4bcb-a529-d5683a8e9ac9",
   "metadata": {},
   "outputs": [],
   "source": [
    "causal_graph = nx.read_adjlist(\"../../1_Discovery/MessageOverhead/AdjLists/DirectLiNGAM.adjlist\", create_using=nx.DiGraph)\n",
    "\n",
    "gml_graph = \"\\n\".join(nx.generate_gml(causal_graph))"
   ]
  },
  {
   "cell_type": "code",
   "execution_count": null,
   "id": "37b1c019-8388-4f44-b8b1-b8db82cacb26",
   "metadata": {},
   "outputs": [],
   "source": [
    "#From digraph to adjancency matrix\n",
    "\n",
    "# true_causal_matrix = nx.adjacency_matrix(causal_graph)\n",
    "true_causal_matrix = nx.to_numpy_array(causal_graph)\n",
    "\n",
    "print(true_causal_matrix)\n",
    "print(causal_graph.nodes)"
   ]
  },
  {
   "cell_type": "code",
   "execution_count": null,
   "id": "d5cb5510-a8bd-4588-883e-bb6c62998b3a",
   "metadata": {
    "tags": []
   },
   "outputs": [],
   "source": [
    "#Falsification\n",
    "\n",
    "result = falsify_graph(causal_graph, consolidated, show_progress_bar=True,  plot_histogram=True)\n",
    "print(result)"
   ]
  },
  {
   "cell_type": "code",
   "execution_count": null,
   "id": "a36bafa9-036b-45a6-8e3b-66c79dfc4231",
   "metadata": {
    "tags": []
   },
   "outputs": [],
   "source": [
    "print('Violations of LMCs')\n",
    "plot_local_insights(causal_graph, result, method=FalsifyConst.VALIDATE_LMC)"
   ]
  },
  {
   "cell_type": "code",
   "execution_count": null,
   "id": "c56adedb-46f3-4395-8f3b-d6f5ac3a249d",
   "metadata": {},
   "outputs": [],
   "source": [
    "from scipy.stats import halfnorm\n",
    "\n",
    "causal_model = gcm.StructuralCausalModel(causal_graph)\n",
    "\n",
    "consolidated = consolidated.dropna()\n",
    "summary_auto_assignment = gcm.auto.assign_causal_mechanisms(causal_model, consolidated)\n",
    "print(summary_auto_assignment)"
   ]
  },
  {
   "cell_type": "code",
   "execution_count": null,
   "id": "786efa6e-5b55-4c91-bd3b-e2797d53f849",
   "metadata": {},
   "outputs": [],
   "source": [
    "gcm.fit(causal_model, consolidated)\n",
    "print(gcm.evaluate_causal_model(causal_model, consolidated))"
   ]
  }
 ],
 "metadata": {
  "kernelspec": {
   "display_name": "Python 3 (ipykernel)",
   "language": "python",
   "name": "python3"
  },
  "language_info": {
   "codemirror_mode": {
    "name": "ipython",
    "version": 3
   },
   "file_extension": ".py",
   "mimetype": "text/x-python",
   "name": "python",
   "nbconvert_exporter": "python",
   "pygments_lexer": "ipython3",
   "version": "3.11.5"
  }
 },
 "nbformat": 4,
 "nbformat_minor": 5
}
