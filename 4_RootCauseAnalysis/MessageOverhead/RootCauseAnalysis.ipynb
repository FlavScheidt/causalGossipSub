{
 "cells": [
  {
   "cell_type": "code",
   "execution_count": 1,
   "id": "98f153b7-9e51-4d06-af2f-b279ed3cafe2",
   "metadata": {
    "tags": []
   },
   "outputs": [],
   "source": [
    "#This is directly from the article  https://aws.amazon.com/pt/blogs/opensource/root-cause-analysis-with-dowhy-an-open-source-python-library-for-causal-machine-learning/\n",
    "\n",
    "import networkx as nx\n",
    "import pandas as pd\n",
    "from dowhy import gcm\n",
    "from dowhy import CausalModel\n",
    "import numpy as np\n",
    "import matplotlib.pyplot as plt"
   ]
  },
  {
   "cell_type": "code",
   "execution_count": null,
   "id": "12d83fef-2997-40f2-8c8c-f48f09d098ea",
   "metadata": {},
   "outputs": [],
   "source": [
    "#Treat dataset\n",
    "\n",
    "#Import data \n",
    "# data = pd.read_csv('../datasets/consolidated.csv',header=0, index_col=0)\n",
    "data = pd.read_csv('../../../Datasets/Networkwise/consolidated_5s.csv',header=0, index_col=0)\n",
    "consolidated = pd.DataFrame(data)\n",
    "\n",
    "\n",
    "consolidated = consolidated.drop(columns=['experiment', 'topology'])#, 'messageBandwidth'])#, 'gossipBandwidth'])#, 'messageDuplicated'])#, 'n_nodes', 'consensus', 'messageDuplicated'])\n",
    "# consolidated = consolidated.loc[consolidated['totalBandwidth'] > 0]\n",
    "# consolidated.head(100)\n",
    "\n",
    "consolidateddiff = consolidated.dropna().dropna()\n",
    "\n",
    "X = consolidateddiff[['d', 'messageReceived', 'graft', 'prune', 'dlo', 'dhi', 'dout', 'interval', 'messageOverhead', 'topics', 'topicSize']].to_numpy()\n",
    "consolidated = consolidateddiff[['d', 'messageReceived', 'graft', 'prune', 'dlo', 'dhi', 'dout', 'interval', 'messageOverhead', 'topics', 'topicSize']]\n",
    "\n",
    "conslidated.head(500)"
   ]
  },
  {
   "cell_type": "code",
   "execution_count": null,
   "id": "7e472a02-081b-4e4a-b24c-78a5ca395db2",
   "metadata": {},
   "outputs": [],
   "source": [
    "causal_graph = nx.read_adjlist(\"../../../1_Discovery/MessageOverhead/NetworkWise/intersection.adjlist\", create_using=nx.DiGraph)"
   ]
  },
  {
   "cell_type": "code",
   "execution_count": null,
   "id": "6e4916a5-f261-4803-9884-b76bf252d3cf",
   "metadata": {},
   "outputs": [],
   "source": [
    "# Create the structural causal model object\n",
    "scm = gcm.StructuralCausalModel(causal_graph)\n",
    "\n",
    "# Automatically assign generative models to each node based on the given data\n",
    "gcm.auto.assign_causal_mechanisms(scm, consolidated)"
   ]
  },
  {
   "cell_type": "code",
   "execution_count": null,
   "id": "04134697-478d-4993-aff7-2405d424ae81",
   "metadata": {},
   "outputs": [],
   "source": [
    "#Fit model to data\n",
    "gcm.fit(scm, consolidated)"
   ]
  },
  {
   "cell_type": "code",
   "execution_count": null,
   "id": "f099e31a-3f9e-4e70-b7ba-2d910a476431",
   "metadata": {},
   "outputs": [],
   "source": [
    "#Key factors influencing Bandwidth?\n",
    "\n",
    "def convert_to_percentage(value_dictionary):\n",
    "    total_absolute_sum = np.sum([abs(v) for v in value_dictionary.values()])\n",
    "    return {k: abs(v) / total_absolute_sum * 100 for k, v in value_dictionary.items()}\n",
    "\n",
    "\n",
    "arrow_strengths = gcm.arrow_strength(scm, target_node='messageOverhead')\n",
    "\n",
    "\n",
    "fig, ax = plt.subplots(figsize=(15,20)) \n",
    "gcm.util.plot(causal_graph, causal_strengths=convert_to_percentage(arrow_strengths))#, figure_size=[15, 10])"
   ]
  },
  {
   "cell_type": "code",
   "execution_count": null,
   "id": "25bed821-1be4-4d73-bf7e-224c435386e5",
   "metadata": {},
   "outputs": [],
   "source": [
    "def bar_plot(value_dictionary, ylabel, uncertainty_attribs=None, figsize=(8, 5)):\n",
    "    value_dictionary = {k: value_dictionary[k] for k in sorted(value_dictionary)}\n",
    "    if uncertainty_attribs is None:\n",
    "        uncertainty_attribs = {node: [value_dictionary[node], value_dictionary[node]] for node in value_dictionary}\n",
    "\n",
    "    _, ax = plt.subplots(figsize=figsize)\n",
    "    ci_plus = [uncertainty_attribs[node][1] - value_dictionary[node] for node in value_dictionary.keys()]\n",
    "    ci_minus = [value_dictionary[node] - uncertainty_attribs[node][0] for node in value_dictionary.keys()]\n",
    "    yerr = np.array([ci_minus, ci_plus])\n",
    "    yerr[abs(yerr) < 10**-7] = 0\n",
    "    plt.bar(value_dictionary.keys(), value_dictionary.values(), yerr=yerr, ecolor='#1E88E5', color='#ff0d57', width=0.8)\n",
    "    plt.ylabel(ylabel)\n",
    "    plt.xticks(rotation=45)\n",
    "    ax.spines['right'].set_visible(False)\n",
    "    ax.spines['top'].set_visible(False)\n",
    "\n",
    "    plt.show()\n",
    "\n",
    "\n",
    "iccs = gcm.intrinsic_causal_influence(scm, target_node='totalBandwidth', num_samples_randomization=500)\n",
    "\n",
    "bar_plot(convert_to_percentage(iccs), ylabel='Variance attribution in %')"
   ]
  }
 ],
 "metadata": {
  "kernelspec": {
   "display_name": "Python 3 (ipykernel)",
   "language": "python",
   "name": "python3"
  },
  "language_info": {
   "codemirror_mode": {
    "name": "ipython",
    "version": 3
   },
   "file_extension": ".py",
   "mimetype": "text/x-python",
   "name": "python",
   "nbconvert_exporter": "python",
   "pygments_lexer": "ipython3",
   "version": "3.11.5"
  }
 },
 "nbformat": 4,
 "nbformat_minor": 5
}
